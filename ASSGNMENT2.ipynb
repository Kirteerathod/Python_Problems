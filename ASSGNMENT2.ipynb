{
 "cells": [
  {
   "cell_type": "code",
   "execution_count": 3,
   "id": "97581c61-9e6f-4882-9136-0ed2eba9477f",
   "metadata": {},
   "outputs": [],
   "source": [
    "#Question1\n",
    "#Create a variable age and assign it the value 25 . Then print the value of age along with its data type using the type() function."
   ]
  },
  {
   "cell_type": "code",
   "execution_count": 6,
   "id": "1d963356-f52b-492e-a0f4-f6597b19bba7",
   "metadata": {},
   "outputs": [
    {
     "name": "stdout",
     "output_type": "stream",
     "text": [
      "25\n"
     ]
    },
    {
     "data": {
      "text/plain": [
       "int"
      ]
     },
     "execution_count": 6,
     "metadata": {},
     "output_type": "execute_result"
    }
   ],
   "source": [
    "age = 25\n",
    "print(age)\n",
    "type(age)"
   ]
  },
  {
   "cell_type": "code",
   "execution_count": 4,
   "id": "91b01e11-2de7-48d4-a454-3f229f81bdae",
   "metadata": {},
   "outputs": [],
   "source": [
    "#Question2\n",
    "#Assign the number 12.5 to a variable price . Print both the variable and its data type. Then assign the value 12 to the same variable and print its data\n",
    "#type again. What do you observe?"
   ]
  },
  {
   "cell_type": "code",
   "execution_count": 13,
   "id": "eb6cefab-2d44-4928-bf60-1e2a654c5a79",
   "metadata": {},
   "outputs": [
    {
     "name": "stdout",
     "output_type": "stream",
     "text": [
      "12.5\n"
     ]
    },
    {
     "data": {
      "text/plain": [
       "float"
      ]
     },
     "execution_count": 13,
     "metadata": {},
     "output_type": "execute_result"
    }
   ],
   "source": [
    "price = 12.5\n",
    "print(price)\n",
    "type(price)\n",
    "\n",
    "# Initially, price is assigned the value 12.5, which is a float. The type(price) will print float\n",
    "# After reassigning price to 12, which is an integer, the type(price) will print int"
   ]
  },
  {
   "cell_type": "code",
   "execution_count": 14,
   "id": "b6c2e612-3762-4165-9a5d-8bca6fe2894b",
   "metadata": {},
   "outputs": [
    {
     "name": "stdout",
     "output_type": "stream",
     "text": [
      "12\n"
     ]
    },
    {
     "data": {
      "text/plain": [
       "int"
      ]
     },
     "execution_count": 14,
     "metadata": {},
     "output_type": "execute_result"
    }
   ],
   "source": [
    "price = 12\n",
    "print(12)\n",
    "type(price)"
   ]
  },
  {
   "cell_type": "code",
   "execution_count": 16,
   "id": "4b13b1dc-db00-4c28-a06f-e06e0604a305",
   "metadata": {},
   "outputs": [],
   "source": [
    "#Question3\n",
    "#Create a variable is_raining and set it to True . Print the value of the variable \n",
    "#along with its type. Then set is_raining to False and print the new value and type."
   ]
  },
  {
   "cell_type": "code",
   "execution_count": 1,
   "id": "b3015e8f-525c-4f54-809e-8050a4fc0bc0",
   "metadata": {},
   "outputs": [
    {
     "name": "stdout",
     "output_type": "stream",
     "text": [
      "True\n"
     ]
    },
    {
     "data": {
      "text/plain": [
       "bool"
      ]
     },
     "execution_count": 1,
     "metadata": {},
     "output_type": "execute_result"
    }
   ],
   "source": [
    "is_raining = True\n",
    "print(is_raining)\n",
    "type(is_raining)\n"
   ]
  },
  {
   "cell_type": "code",
   "execution_count": 2,
   "id": "ae6261b6-85a1-4d2e-a81e-9aa584e7ece7",
   "metadata": {},
   "outputs": [
    {
     "name": "stdout",
     "output_type": "stream",
     "text": [
      "False\n"
     ]
    },
    {
     "data": {
      "text/plain": [
       "bool"
      ]
     },
     "execution_count": 2,
     "metadata": {},
     "output_type": "execute_result"
    }
   ],
   "source": [
    "is_raining = False\n",
    "print(is_raining)\n",
    "type(is_raining)"
   ]
  },
  {
   "cell_type": "code",
   "execution_count": 5,
   "id": "5c8c5b02-e2f6-4bda-a2df-d56dc0a5af40",
   "metadata": {},
   "outputs": [],
   "source": [
    "#Question4\n",
    "#Create a variable my_name and store your full name in it as a string. Then\n",
    "#print the value of my_name using single quotes '"
   ]
  },
  {
   "cell_type": "code",
   "execution_count": 10,
   "id": "70ef61e4-d532-4834-a51b-685050b194fc",
   "metadata": {},
   "outputs": [
    {
     "data": {
      "text/plain": [
       "'Kirtee Shobharam Rathod'"
      ]
     },
     "execution_count": 10,
     "metadata": {},
     "output_type": "execute_result"
    }
   ],
   "source": [
    "my_name = \"Kirtee Shobharam Rathod\"\n",
    "my_name"
   ]
  },
  {
   "cell_type": "code",
   "execution_count": 9,
   "id": "62631af7-5c4d-41a6-b4f5-0f9864b91a8b",
   "metadata": {},
   "outputs": [],
   "source": [
    "#Question5\n",
    "#Write a Python program that asks the user for their name and age using the\n",
    "#input() function. Store the inputs in variables and print a sentence like\n",
    "#\"Hello, [Name]! You are [Age] years old.\" Ensure you cast the age to a integer."
   ]
  },
  {
   "cell_type": "code",
   "execution_count": 17,
   "id": "cd11c6c9-0bcc-44b6-991c-9ee544684c4f",
   "metadata": {},
   "outputs": [
    {
     "name": "stdin",
     "output_type": "stream",
     "text": [
      "Enter your Name kirtee\n",
      "Enter your age 22\n"
     ]
    },
    {
     "name": "stdout",
     "output_type": "stream",
     "text": [
      "Hello, kirtee ! you are 22 years old.\n"
     ]
    }
   ],
   "source": [
    "name = input(\"Enter your Name\")\n",
    "age = int(input(\"Enter your age\"))\n",
    "print(\"Hello,\",name,\"!\", \"you are\" , age , \"years old.\")        "
   ]
  },
  {
   "cell_type": "code",
   "execution_count": 16,
   "id": "297d84cf-9211-45c6-a5f7-19069de17bd9",
   "metadata": {},
   "outputs": [],
   "source": [
    "#Question6\n",
    "#Create two variables x and y and assign them the values 10 and 3.5 ,\n",
    "#respectively. Print their values and types. Then, create a new variable\n",
    "#sum_xy and store the sum of x and y . Print the result and its type."
   ]
  },
  {
   "cell_type": "code",
   "execution_count": 27,
   "id": "6a351810-a555-460d-b85f-fa439d03286c",
   "metadata": {},
   "outputs": [
    {
     "name": "stdout",
     "output_type": "stream",
     "text": [
      "10\n"
     ]
    },
    {
     "data": {
      "text/plain": [
       "int"
      ]
     },
     "execution_count": 27,
     "metadata": {},
     "output_type": "execute_result"
    }
   ],
   "source": [
    "X = 10\n",
    "Y = 3.5\n",
    "print(X)\n",
    "type(X)"
   ]
  },
  {
   "cell_type": "code",
   "execution_count": 28,
   "id": "97099cb2-b835-40dd-92af-e7bf9bf51380",
   "metadata": {},
   "outputs": [
    {
     "name": "stdout",
     "output_type": "stream",
     "text": [
      "3.5\n"
     ]
    },
    {
     "data": {
      "text/plain": [
       "float"
      ]
     },
     "execution_count": 28,
     "metadata": {},
     "output_type": "execute_result"
    }
   ],
   "source": [
    "print(Y)\n",
    "type(Y)"
   ]
  },
  {
   "cell_type": "code",
   "execution_count": 29,
   "id": "09d79917-7968-4e60-9b7c-9720c8855d59",
   "metadata": {},
   "outputs": [
    {
     "name": "stdout",
     "output_type": "stream",
     "text": [
      "13.5\n"
     ]
    },
    {
     "data": {
      "text/plain": [
       "float"
      ]
     },
     "execution_count": 29,
     "metadata": {},
     "output_type": "execute_result"
    }
   ],
   "source": [
    "sum_xy = X+Y\n",
    "print(sum_xy)\n",
    "type(sum_xy)"
   ]
  },
  {
   "cell_type": "code",
   "execution_count": 37,
   "id": "d89993d1-f5e7-402f-9505-f2e9a4795075",
   "metadata": {},
   "outputs": [],
   "source": [
    "#Question7\n",
    "#Using the type() function, check and print the data type of the following:\n",
    "#45.0 \"hello\" None False"
   ]
  },
  {
   "cell_type": "code",
   "execution_count": 33,
   "id": "5dc551bd-0441-481c-bded-9207bee4da0b",
   "metadata": {},
   "outputs": [
    {
     "data": {
      "text/plain": [
       "float"
      ]
     },
     "execution_count": 33,
     "metadata": {},
     "output_type": "execute_result"
    }
   ],
   "source": [
    "type(45.0)"
   ]
  },
  {
   "cell_type": "code",
   "execution_count": 34,
   "id": "cbc1145e-6e13-4601-967f-090b9f4765d8",
   "metadata": {},
   "outputs": [
    {
     "data": {
      "text/plain": [
       "str"
      ]
     },
     "execution_count": 34,
     "metadata": {},
     "output_type": "execute_result"
    }
   ],
   "source": [
    "type(\"Hello\")"
   ]
  },
  {
   "cell_type": "code",
   "execution_count": 35,
   "id": "f54ee0cb-39c0-419b-8713-1874c2736e37",
   "metadata": {},
   "outputs": [
    {
     "data": {
      "text/plain": [
       "NoneType"
      ]
     },
     "execution_count": 35,
     "metadata": {},
     "output_type": "execute_result"
    }
   ],
   "source": [
    "type(None)"
   ]
  },
  {
   "cell_type": "code",
   "execution_count": 36,
   "id": "a718a0f7-2a00-41ad-913b-2d48416bb7a6",
   "metadata": {},
   "outputs": [
    {
     "data": {
      "text/plain": [
       "bool"
      ]
     },
     "execution_count": 36,
     "metadata": {},
     "output_type": "execute_result"
    }
   ],
   "source": [
    "type(False)"
   ]
  },
  {
   "cell_type": "code",
   "execution_count": 38,
   "id": "950f5a85-5e8c-4168-a454-8517f7aac802",
   "metadata": {},
   "outputs": [],
   "source": [
    "#Question8\n",
    "#Write a Python program to print three strings \"apple\" , \"banana\" , and \"cherry\"\n",
    "#on the same line, separated by a space. Then modify the program to\n",
    "#separate the strings using a comma , instead of a space."
   ]
  },
  {
   "cell_type": "code",
   "execution_count": 42,
   "id": "b13b2843-8b73-4108-9f78-8fae5790a654",
   "metadata": {},
   "outputs": [
    {
     "name": "stdout",
     "output_type": "stream",
     "text": [
      "apple banana cherry\n",
      "apple, banana, cherry\n"
     ]
    }
   ],
   "source": [
    "print(\"apple\", \"banana\" , \"cherry\" ,sep=\" \")\n",
    "\n",
    "print(\"apple\", \"banana\", \"cherry\", sep=\", \")"
   ]
  },
  {
   "cell_type": "code",
   "execution_count": 43,
   "id": "ba511ba2-2e58-4f73-b394-509b678d4061",
   "metadata": {},
   "outputs": [],
   "source": [
    "#Question9\n",
    "#Create a variable big_number and assign it a very large integer value (e.g.,\n",
    "#987654321987654321 ). Print the value and its type. What do you notice about\n",
    "#the size of the number?"
   ]
  },
  {
   "cell_type": "code",
   "execution_count": 44,
   "id": "95b580e8-e7c6-4e21-9192-c9ceb086ee20",
   "metadata": {},
   "outputs": [
    {
     "name": "stdout",
     "output_type": "stream",
     "text": [
      "46677582345677\n"
     ]
    },
    {
     "data": {
      "text/plain": [
       "int"
      ]
     },
     "execution_count": 44,
     "metadata": {},
     "output_type": "execute_result"
    }
   ],
   "source": [
    "big_number = 46677582345677\n",
    "print(big_number)\n",
    "type(big_number)\n",
    "\n",
    "#The variable big_number holds the value 987654321987654321, and its type is int\n"
   ]
  },
  {
   "cell_type": "code",
   "execution_count": 45,
   "id": "e644424d-70db-414a-8c89-6d16c70a0c5b",
   "metadata": {},
   "outputs": [],
   "source": [
    "#Question\n",
    "#Write a Python program that prints the result of multiplying two floats (e.g.,\n",
    "#2.5 and 3.7 ). Then check and print the data type of the result."
   ]
  },
  {
   "cell_type": "code",
   "execution_count": 46,
   "id": "261df652-48af-484a-afea-d6afa26106cd",
   "metadata": {},
   "outputs": [
    {
     "name": "stdout",
     "output_type": "stream",
     "text": [
      "9.25\n"
     ]
    },
    {
     "data": {
      "text/plain": [
       "float"
      ]
     },
     "execution_count": 46,
     "metadata": {},
     "output_type": "execute_result"
    }
   ],
   "source": [
    "x = 2.5\n",
    "y = 3.7\n",
    "multi = x*y\n",
    "print(multi)\n",
    "type(multi)"
   ]
  },
  {
   "cell_type": "code",
   "execution_count": null,
   "id": "7f4cb437-18e6-43a5-a293-2042dca104dc",
   "metadata": {},
   "outputs": [],
   "source": []
  }
 ],
 "metadata": {
  "kernelspec": {
   "display_name": "Python 3 (ipykernel)",
   "language": "python",
   "name": "python3"
  },
  "language_info": {
   "codemirror_mode": {
    "name": "ipython",
    "version": 3
   },
   "file_extension": ".py",
   "mimetype": "text/x-python",
   "name": "python",
   "nbconvert_exporter": "python",
   "pygments_lexer": "ipython3",
   "version": "3.13.1"
  }
 },
 "nbformat": 4,
 "nbformat_minor": 5
}
