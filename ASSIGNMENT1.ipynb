{
 "cells": [
  {
   "cell_type": "code",
   "execution_count": 1,
   "id": "98dd72e6-406e-4cbb-a3a2-5ebee1ca48ab",
   "metadata": {},
   "outputs": [],
   "source": [
    "#question1"
   ]
  },
  {
   "cell_type": "code",
   "execution_count": 2,
   "id": "704c1f90-da90-407d-93a7-1964ca24ab0e",
   "metadata": {},
   "outputs": [],
   "source": [
    "#Write a Python program to print your name and favourite colour on two\n",
    "#separate lines."
   ]
  },
  {
   "cell_type": "code",
   "execution_count": 3,
   "id": "6df6425c-0cb8-4f7f-b6a1-a2e756acbbd5",
   "metadata": {},
   "outputs": [
    {
     "name": "stdout",
     "output_type": "stream",
     "text": [
      "Kirtee \n",
      "White\n"
     ]
    }
   ],
   "source": [
    "print(\"Kirtee \\nWhite\")"
   ]
  },
  {
   "cell_type": "code",
   "execution_count": 4,
   "id": "f7d0826c-03a3-4dcd-9d80-bdc9495563aa",
   "metadata": {},
   "outputs": [],
   "source": [
    "#Question2\n",
    "#Write a Python program that prints the result of adding 7 and 8."
   ]
  },
  {
   "cell_type": "code",
   "execution_count": 5,
   "id": "3aa15a04-50be-410d-a442-4e5646372400",
   "metadata": {},
   "outputs": [
    {
     "name": "stdout",
     "output_type": "stream",
     "text": [
      "15\n"
     ]
    }
   ],
   "source": [
    "print(7+8)"
   ]
  },
  {
   "cell_type": "code",
   "execution_count": 11,
   "id": "4c82b56d-56f1-40cb-98fa-87e817e93dcf",
   "metadata": {},
   "outputs": [],
   "source": [
    "#Question3\n",
    "#Use the print function to display the following text exactly as it is:\n",
    "#Python is fun!\n",
    "#Let's learn together."
   ]
  },
  {
   "cell_type": "code",
   "execution_count": 10,
   "id": "87621a86-d729-4dd3-8582-c14adb7f70a1",
   "metadata": {},
   "outputs": [
    {
     "name": "stdout",
     "output_type": "stream",
     "text": [
      "Python is fun! \n",
      "Let's learn together.\n"
     ]
    }
   ],
   "source": [
    "print(\"Python is fun! \\nLet's learn together.\")"
   ]
  },
  {
   "cell_type": "code",
   "execution_count": 12,
   "id": "a7546e02-ee98-44f2-bcf1-aa31186e89d9",
   "metadata": {},
   "outputs": [],
   "source": [
    "#Question4\n",
    "#Write a Python program to calculate and print the result of multiplying 6 by 9."
   ]
  },
  {
   "cell_type": "code",
   "execution_count": 13,
   "id": "fc4a455a-8ba4-4453-9159-08d43e9f5866",
   "metadata": {},
   "outputs": [
    {
     "name": "stdout",
     "output_type": "stream",
     "text": [
      "54\n"
     ]
    }
   ],
   "source": [
    "print(6*9)"
   ]
  },
  {
   "cell_type": "code",
   "execution_count": 14,
   "id": "ee324bc5-e66e-4b9d-b0df-63d7dd38ae48",
   "metadata": {},
   "outputs": [],
   "source": [
    "#Question5\n",
    "#Write a Python program that prints the result of adding 5 5 and multiplying 2 3 in a single line of code"
   ]
  },
  {
   "cell_type": "code",
   "execution_count": 16,
   "id": "17399ab3-06ca-488f-99d2-cef3395f7a3e",
   "metadata": {},
   "outputs": [
    {
     "name": "stdout",
     "output_type": "stream",
     "text": [
      "10 6\n"
     ]
    }
   ],
   "source": [
    "print(5+5, 2*3)"
   ]
  },
  {
   "cell_type": "code",
   "execution_count": null,
   "id": "ef2d9929-449b-43aa-a4ea-b67d56b6ef1c",
   "metadata": {},
   "outputs": [],
   "source": []
  }
 ],
 "metadata": {
  "kernelspec": {
   "display_name": "Python 3 (ipykernel)",
   "language": "python",
   "name": "python3"
  },
  "language_info": {
   "codemirror_mode": {
    "name": "ipython",
    "version": 3
   },
   "file_extension": ".py",
   "mimetype": "text/x-python",
   "name": "python",
   "nbconvert_exporter": "python",
   "pygments_lexer": "ipython3",
   "version": "3.13.1"
  }
 },
 "nbformat": 4,
 "nbformat_minor": 5
}
