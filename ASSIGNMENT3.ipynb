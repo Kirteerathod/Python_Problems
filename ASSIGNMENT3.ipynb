{
 "cells": [
  {
   "cell_type": "code",
   "execution_count": 1,
   "id": "a63b03a3-99cd-46ff-b63b-0217780c2b80",
   "metadata": {},
   "outputs": [],
   "source": [
    "#Question1\n",
    "#Create a variable x with the value 15 . Perform floored division by 4 and\n",
    "#print the result. What is the difference between floored division and normal division?"
   ]
  },
  {
   "cell_type": "code",
   "execution_count": 3,
   "id": "393f6a45-5d99-41e7-8cc5-62003f3f2547",
   "metadata": {},
   "outputs": [
    {
     "name": "stdout",
     "output_type": "stream",
     "text": [
      "3\n"
     ]
    }
   ],
   "source": [
    "X = 15\n",
    "floored_division = X//4\n",
    "print(floored_division)\n",
    "\n",
    "# Floored division (//) gives the largest integer less than or equal to the result.\n",
    "# Normal division (/) gives the exact floating-point value. "
   ]
  },
  {
   "cell_type": "code",
   "execution_count": 4,
   "id": "a5fa8ca3-d66c-450a-aadd-117bdb315c4a",
   "metadata": {},
   "outputs": [],
   "source": [
    "#Question2\n",
    "#Write a program to calculate 8 ** 2 and 16 ** 0.5 . Print both results and\n",
    "#describe what each represents."
   ]
  },
  {
   "cell_type": "code",
   "execution_count": 5,
   "id": "0ca989fa-0a31-4ac7-a3c9-bb6bdbf75830",
   "metadata": {},
   "outputs": [
    {
     "name": "stdout",
     "output_type": "stream",
     "text": [
      "64\n",
      "4.0\n"
     ]
    }
   ],
   "source": [
    "A = 8**2\n",
    "B = 16**0.5\n",
    "print(A)\n",
    "print(B)\n",
    "\n",
    "# 8 ** 2 represents 8 raised to the power of 2, which equals 8 x 8 = 64.\n",
    "# 16 ** 0.5 represents the square root of 16, which equals 4.0."
   ]
  },
  {
   "cell_type": "code",
   "execution_count": 9,
   "id": "13b72b4b-11c6-4054-a0d5-ab2f250242b8",
   "metadata": {},
   "outputs": [],
   "source": [
    "#Question3\n",
    "#Use arithmetic operators to solve the following expression: 20 - 5 * 3 + 8 /\n",
    "#4 . Use parentheses to make sure the addition happens before\n",
    "#multiplication. Print the output."
   ]
  },
  {
   "cell_type": "code",
   "execution_count": 8,
   "id": "8d637a63-b1f4-4a85-89a9-526b41136a86",
   "metadata": {},
   "outputs": [
    {
     "name": "stdout",
     "output_type": "stream",
     "text": [
      "-2.0\n"
     ]
    }
   ],
   "source": [
    "result = 20 - (5 + 3) * 3 + 8 / 4\n",
    "print(result)"
   ]
  },
  {
   "cell_type": "code",
   "execution_count": 15,
   "id": "cb3f0805-ea02-40b0-bbb2-e3771d0d567b",
   "metadata": {},
   "outputs": [],
   "source": [
    "#Question4\n",
    "#Assign the value 7 to a variable num . Convert it to a float and print the\n",
    "#result. What is the difference between 7 and 7.0 ?"
   ]
  },
  {
   "cell_type": "code",
   "execution_count": 14,
   "id": "607924ab-df54-4b39-8fe1-92e006847219",
   "metadata": {},
   "outputs": [
    {
     "name": "stdout",
     "output_type": "stream",
     "text": [
      "7\n",
      "7.0\n"
     ]
    }
   ],
   "source": [
    "num = 7\n",
    "print(num)\n",
    "num_float = float(num)\n",
    "print(num_float)\n",
    "\n",
    "# 7 is an integer (whole number).\n",
    "# 7.0 is a float (number with decimal), even though both represent the same value mathematically."
   ]
  },
  {
   "cell_type": "code",
   "execution_count": 18,
   "id": "1279b142-ab06-45e4-b5e3-b835940afb19",
   "metadata": {},
   "outputs": [],
   "source": [
    "#Question5\n",
    "#Use a comparison operator to check if 100 is greater than 50 . Print the\n",
    "#result and indicate what type of value this is."
   ]
  },
  {
   "cell_type": "code",
   "execution_count": 17,
   "id": "3e13c875-7c0e-4b6d-b7f1-b24d89e101df",
   "metadata": {},
   "outputs": [
    {
     "name": "stdout",
     "output_type": "stream",
     "text": [
      "True\n"
     ]
    },
    {
     "data": {
      "text/plain": [
       "bool"
      ]
     },
     "execution_count": 17,
     "metadata": {},
     "output_type": "execute_result"
    }
   ],
   "source": [
    "result = 100 >50\n",
    "print(result)\n",
    "type(result)"
   ]
  },
  {
   "cell_type": "code",
   "execution_count": 20,
   "id": "cb474704-421f-44fb-acff-ba2e44ecf753",
   "metadata": {},
   "outputs": [],
   "source": [
    "#Question6\n",
    "#Assign True to a variable is_sunny and False to is_weekend . Use logical\n",
    "#operators to check if it is sunny and the weekend ( is_sunny and is_weekend ).\n",
    "#Print the result."
   ]
  },
  {
   "cell_type": "code",
   "execution_count": 22,
   "id": "7d943ace-f199-47ea-a519-e8618840df37",
   "metadata": {},
   "outputs": [
    {
     "name": "stdout",
     "output_type": "stream",
     "text": [
      "False\n"
     ]
    }
   ],
   "source": [
    "is_sunny = True\n",
    "is_weekend = False\n",
    "result = is_sunny and is_weekend\n",
    "print(result)"
   ]
  },
  {
   "cell_type": "code",
   "execution_count": 23,
   "id": "86609f8b-4267-4a03-acd7-515518d885bd",
   "metadata": {},
   "outputs": [],
   "source": [
    "#Question7\n",
    "#Create a variable password and set it to \"my_password123\" . Ask the user to input\n",
    "#a password and print True if the input matches the value of password ,\n",
    "#otherwise print False ."
   ]
  },
  {
   "cell_type": "code",
   "execution_count": 24,
   "id": "f7bdc4dd-5fa6-4617-ab0f-18f0899b0354",
   "metadata": {},
   "outputs": [
    {
     "name": "stdin",
     "output_type": "stream",
     "text": [
      "Enter the password:  453563\n"
     ]
    },
    {
     "name": "stdout",
     "output_type": "stream",
     "text": [
      "False\n"
     ]
    }
   ],
   "source": [
    "\n",
    "password = \"my_password123\"\n",
    "user_input = input(\"Enter the password: \")\n",
    "\n",
    "\n",
    "if user_input == password:\n",
    "    print(True)\n",
    "else:\n",
    "    print(False)\n"
   ]
  },
  {
   "cell_type": "code",
   "execution_count": 27,
   "id": "250483a4-bd7a-4dcc-8d56-a871b3289e15",
   "metadata": {},
   "outputs": [],
   "source": [
    "#Question8\n",
    "#Assign the value 50 to a variable marks . Increment the value of marks by 5\n",
    "#using the += operator, then print the new value."
   ]
  },
  {
   "cell_type": "code",
   "execution_count": 26,
   "id": "d17407da-f336-4089-9422-0f5a99c8f498",
   "metadata": {},
   "outputs": [
    {
     "name": "stdout",
     "output_type": "stream",
     "text": [
      "The new value of marks is: 55\n"
     ]
    }
   ],
   "source": [
    "\n",
    "marks = 50\n",
    "marks += 5\n",
    "\n",
    "print(\"The new value of marks is:\", marks)\n"
   ]
  },
  {
   "cell_type": "code",
   "execution_count": 28,
   "id": "e8a9e3cc-f496-49f9-b4ae-605aea51ac8a",
   "metadata": {},
   "outputs": [],
   "source": [
    "#Question9\n",
    "#Write a program to check if the value of a = 0 and b = 10 satisfies a or b .\n",
    "#Print the output and explain why it gives that result."
   ]
  },
  {
   "cell_type": "code",
   "execution_count": 30,
   "id": "b6cb711b-5783-431f-8ac0-7209ea90175f",
   "metadata": {},
   "outputs": [
    {
     "name": "stdout",
     "output_type": "stream",
     "text": [
      "The result of a or b is: 10\n"
     ]
    }
   ],
   "source": [
    "\n",
    "a = 0\n",
    "b = 10\n",
    "\n",
    "result = a or b\n",
    "print(\"The result of a or b is:\", result)\n",
    "\n",
    "# The or operator short-circuits, meaning it will return the first operand that evaluates to True (non-zero).\n",
    "# Since a is False (0), it moves on to b, which is True (10), and therefore the result is 10."
   ]
  },
  {
   "cell_type": "code",
   "execution_count": 34,
   "id": "b9c8bee7-01bb-40dc-bd44-d577c2f85abb",
   "metadata": {},
   "outputs": [],
   "source": [
    "#Question10\n",
    "#Use not to negate the value of False and print the result. Explain what the\n",
    "#not operator does in Python."
   ]
  },
  {
   "cell_type": "code",
   "execution_count": 33,
   "id": "6a658605-b858-41ab-8ed7-5f32195c1e2a",
   "metadata": {},
   "outputs": [
    {
     "name": "stdout",
     "output_type": "stream",
     "text": [
      "True\n"
     ]
    }
   ],
   "source": [
    "result = not False\n",
    "\n",
    "print(result)\n",
    "\n",
    "#The not operator simply flips the boolean value:\n",
    "\n",
    "#not True → False\n",
    "#not False → True"
   ]
  },
  {
   "cell_type": "code",
   "execution_count": null,
   "id": "eee4c8e2-f304-4921-9ad8-e4ebcc29ba83",
   "metadata": {},
   "outputs": [],
   "source": []
  }
 ],
 "metadata": {
  "kernelspec": {
   "display_name": "Python 3 (ipykernel)",
   "language": "python",
   "name": "python3"
  },
  "language_info": {
   "codemirror_mode": {
    "name": "ipython",
    "version": 3
   },
   "file_extension": ".py",
   "mimetype": "text/x-python",
   "name": "python",
   "nbconvert_exporter": "python",
   "pygments_lexer": "ipython3",
   "version": "3.13.1"
  }
 },
 "nbformat": 4,
 "nbformat_minor": 5
}
