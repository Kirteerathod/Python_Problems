{
 "cells": [
  {
   "cell_type": "code",
   "execution_count": 1,
   "id": "6952f17d-ac56-4e1a-b875-d9b2dd8a1345",
   "metadata": {},
   "outputs": [],
   "source": [
    "#Question1\n",
    "#Write a Python program that checks if a number entered by the user is even\n",
    "#or odd. Print \"Even\" if the number is even and \"Odd\" if it is odd."
   ]
  },
  {
   "cell_type": "code",
   "execution_count": 2,
   "id": "63078e3a-f0b7-43e6-97cb-a5edd4a274bf",
   "metadata": {},
   "outputs": [
    {
     "name": "stdin",
     "output_type": "stream",
     "text": [
      "Enter a number:  5\n"
     ]
    },
    {
     "name": "stdout",
     "output_type": "stream",
     "text": [
      "Odd\n"
     ]
    }
   ],
   "source": [
    "num = int(input(\"Enter a number: \"))\n",
    "\n",
    "if num % 2 == 0:\n",
    "    print(\"Even\")\n",
    "else:\n",
    "    print(\"Odd\")"
   ]
  },
  {
   "cell_type": "code",
   "execution_count": 4,
   "id": "f9b3bfd5-6291-4f7d-8710-7e1242cd3434",
   "metadata": {},
   "outputs": [],
   "source": [
    "#Question2\n",
    "#Create a program that prompts the user for their age and prints whether\n",
    "#they are a child (0-12), teenager (13-19), or adult (20 and above)"
   ]
  },
  {
   "cell_type": "code",
   "execution_count": 5,
   "id": "361d5171-07e5-41f6-a9cd-7d5f428a1e6e",
   "metadata": {},
   "outputs": [
    {
     "name": "stdin",
     "output_type": "stream",
     "text": [
      "Enter your age:  67\n"
     ]
    },
    {
     "name": "stdout",
     "output_type": "stream",
     "text": [
      "Adult\n"
     ]
    }
   ],
   "source": [
    "age = int(input(\"Enter your age: \"))\n",
    "\n",
    "if 0 <= age <= 12:\n",
    "    print(\"Child\")\n",
    "elif 13 <= age <= 19:\n",
    "    print(\"Teenager\")\n",
    "elif age >= 20:\n",
    "    print(\"Adult\")\n",
    "else:\n",
    "    print(\"Invalid age\")\n"
   ]
  },
  {
   "cell_type": "code",
   "execution_count": 6,
   "id": "ffccda16-ef31-4d4c-ac51-52f2110e4fd5",
   "metadata": {},
   "outputs": [],
   "source": [
    "#Question3\n",
    "#Write a program that takes two numbers as input from the user and prints\n",
    "#which number is larger. If both numbers are equal, print \"Both numbers are equal.\""
   ]
  },
  {
   "cell_type": "code",
   "execution_count": 8,
   "id": "439b492c-c937-43b6-a348-743b19d34369",
   "metadata": {},
   "outputs": [
    {
     "name": "stdin",
     "output_type": "stream",
     "text": [
      "Enter the first number:  23\n",
      "Enter the second number:  34\n"
     ]
    },
    {
     "name": "stdout",
     "output_type": "stream",
     "text": [
      "The larger number is 34.0\n"
     ]
    }
   ],
   "source": [
    "\n",
    "num1 = float(input(\"Enter the first number: \"))\n",
    "num2 = float(input(\"Enter the second number: \"))\n",
    "\n",
    "\n",
    "if num1 > num2:\n",
    "    print(\"The larger number is num1 \",num1)\n",
    "elif num1 < num2:\n",
    "    print(\"The larger number is\",num2)\n",
    "else:\n",
    "    print(\"Both numbers are equal.\")\n"
   ]
  },
  {
   "cell_type": "code",
   "execution_count": 9,
   "id": "88736517-b181-4600-9065-14a8be1df161",
   "metadata": {},
   "outputs": [],
   "source": [
    "#Question4\n",
    "#Create a program that checks if a user-entered password matches the\n",
    "#string \"securePassword\". Print \"Access Granted\" if it matches, otherwise\n",
    "#print \"Access Denied.\""
   ]
  },
  {
   "cell_type": "code",
   "execution_count": 10,
   "id": "e692a845-cfa6-4389-871b-df6e8cc2aa34",
   "metadata": {},
   "outputs": [
    {
     "name": "stdin",
     "output_type": "stream",
     "text": [
      "Enter your password:  password\n"
     ]
    },
    {
     "name": "stdout",
     "output_type": "stream",
     "text": [
      "Access Denied\n"
     ]
    }
   ],
   "source": [
    "password = input(\"Enter your password: \")\n",
    "\n",
    "if password == \"securePassword\":\n",
    "    print(\"Access Granted\")\n",
    "else:\n",
    "    print(\"Access Denied\")\n"
   ]
  },
  {
   "cell_type": "code",
   "execution_count": 13,
   "id": "ff22d080-0103-4889-9ef0-3947ac8dac30",
   "metadata": {},
   "outputs": [],
   "source": [
    "#Question5\n",
    "#Write a program that takes a score from the user (0-100) and prints\n",
    "#corresponding grade:\n",
    "#A for 90-10\n",
    "#B for 80-8\n",
    "#C for 70-7\n",
    "#D for 60-6\n",
    "#F for below 60"
   ]
  },
  {
   "cell_type": "code",
   "execution_count": 12,
   "id": "921320b7-c73e-4f0f-9ea6-939659de98ff",
   "metadata": {},
   "outputs": [
    {
     "name": "stdin",
     "output_type": "stream",
     "text": [
      "Enter your score (0-100):  56\n"
     ]
    },
    {
     "name": "stdout",
     "output_type": "stream",
     "text": [
      "Grade: F\n"
     ]
    }
   ],
   "source": [
    "score = int(input(\"Enter your score (0-100): \"))\n",
    "\n",
    "if score >= 90:\n",
    "    print(\"Grade: A\")\n",
    "elif score >= 80:\n",
    "    print(\"Grade: B\")\n",
    "elif score >= 70:\n",
    "    print(\"Grade: C\")\n",
    "elif score >= 60:\n",
    "    print(\"Grade: D\")\n",
    "else:\n",
    "    print(\"Grade: F\")\n"
   ]
  },
  {
   "cell_type": "code",
   "execution_count": 16,
   "id": "c13dfaa9-5ef1-45ad-9bf0-e3807caf38ff",
   "metadata": {},
   "outputs": [],
   "source": [
    "#Question6\n",
    "#Create a program that asks the user for a number and checks if it is\n",
    "#positive, negative, or zero. Print the corresponding message."
   ]
  },
  {
   "cell_type": "code",
   "execution_count": 15,
   "id": "f8910357-c4e2-48a5-b70c-a3084f5b3694",
   "metadata": {},
   "outputs": [
    {
     "name": "stdin",
     "output_type": "stream",
     "text": [
      "Enter a number:  98\n"
     ]
    },
    {
     "name": "stdout",
     "output_type": "stream",
     "text": [
      "The number is positive.\n"
     ]
    }
   ],
   "source": [
    "number = float(input(\"Enter a number: \"))\n",
    "\n",
    "\n",
    "if number > 0:\n",
    "    print(\"The number is positive.\")\n",
    "elif number < 0:\n",
    "    print(\"The number is negative.\")\n",
    "else:\n",
    "    print(\"The number is zero.\")\n"
   ]
  },
  {
   "cell_type": "code",
   "execution_count": 18,
   "id": "1ef64b2a-c2e5-43fa-9848-d474b2222799",
   "metadata": {},
   "outputs": [],
   "source": [
    "#Question7\n",
    "#Write a program that takes three numbers from the user and determines the\n",
    "#largest of the three. Print the largest number."
   ]
  },
  {
   "cell_type": "code",
   "execution_count": 19,
   "id": "947668be-f867-4caa-b8fa-c03109d706b1",
   "metadata": {},
   "outputs": [
    {
     "name": "stdin",
     "output_type": "stream",
     "text": [
      "Enter the first number:  56\n",
      "Enter the second number:  67\n",
      "Enter the third number:  89\n"
     ]
    },
    {
     "name": "stdout",
     "output_type": "stream",
     "text": [
      "The largest number is: 89.0\n"
     ]
    }
   ],
   "source": [
    "num1 = float(input(\"Enter the first number: \"))\n",
    "num2 = float(input(\"Enter the second number: \"))\n",
    "num3 = float(input(\"Enter the third number: \"))\n",
    "\n",
    "largest = max(num1, num2, num3)\n",
    "\n",
    "print(\"The largest number is:\", largest)\n"
   ]
  },
  {
   "cell_type": "code",
   "execution_count": 21,
   "id": "4eae8903-86b7-47ff-a0d9-b6cbd026b9d1",
   "metadata": {},
   "outputs": [],
   "source": [
    "#Question8\n",
    "#Create a program that checks if a user-entered character is a vowel (a, e, i,\n",
    "#o, u) or a consonant. Print the corresponding message."
   ]
  },
  {
   "cell_type": "code",
   "execution_count": 22,
   "id": "7105cc80-886f-4cfb-b9e4-72ba6bc6c919",
   "metadata": {},
   "outputs": [
    {
     "name": "stdin",
     "output_type": "stream",
     "text": [
      "Enter a character:  a\n"
     ]
    },
    {
     "name": "stdout",
     "output_type": "stream",
     "text": [
      "The character is a vowel.\n"
     ]
    }
   ],
   "source": [
    "char = input(\"Enter a character: \")\n",
    "\n",
    "if  ( char == 'a'or char== 'e' or char== 'i' or char== 'o' or char== 'u'):\n",
    "    print(\"The character is a vowel.\")\n",
    "else:\n",
    "    print(\"consonant\")\n"
   ]
  },
  {
   "cell_type": "code",
   "execution_count": 24,
   "id": "7f01362f-aa1c-40f8-9985-54c7597cb2e0",
   "metadata": {},
   "outputs": [],
   "source": [
    "#Question9\n",
    "#Write a program that checks if a given year is a leap year. A year is a leap\n",
    "#year if it is divisible by 4, except for years that are divisible by 100 but not divisible by 400."
   ]
  },
  {
   "cell_type": "code",
   "execution_count": 25,
   "id": "334c22dc-86f3-4155-a661-7257846ab1d5",
   "metadata": {},
   "outputs": [
    {
     "name": "stdin",
     "output_type": "stream",
     "text": [
      "Enter a year:  2002\n"
     ]
    },
    {
     "name": "stdout",
     "output_type": "stream",
     "text": [
      "2002 is not a leap year.\n"
     ]
    }
   ],
   "source": [
    "year = int(input(\"Enter a year: \"))\n",
    "\n",
    "if (year % 4 == 0 and year % 100 != 0) or (year % 400 == 0):\n",
    "    print(year, \"is a leap year.\")\n",
    "else:\n",
    "    print(year, \"is not a leap year.\")\n"
   ]
  },
  {
   "cell_type": "code",
   "execution_count": 26,
   "id": "ecabab24-d255-4278-861f-4435fb134106",
   "metadata": {},
   "outputs": [],
   "source": [
    "#Question\n",
    "#Create a program that prompts the user for a temperature in Celsius and\n",
    "#converts it to Fahrenheit. If the converted temperature is greater than 100°F,\n",
    "#print \"It's boiling!\" Otherwise, print \"It's not boiling yet.\""
   ]
  },
  {
   "cell_type": "code",
   "execution_count": 27,
   "id": "87b0a432-9167-4a28-99e9-f623df044186",
   "metadata": {},
   "outputs": [
    {
     "name": "stdin",
     "output_type": "stream",
     "text": [
      "Enter the temperature in Celsius:  34\n"
     ]
    },
    {
     "name": "stdout",
     "output_type": "stream",
     "text": [
      "It's not boiling yet.\n"
     ]
    }
   ],
   "source": [
    "celsius = float(input(\"Enter the temperature in Celsius: \"))\n",
    "\n",
    "fahrenheit = (celsius * 9/5) + 32\n",
    "\n",
    "if fahrenheit > 100:\n",
    "    print(\"It's boiling!\")\n",
    "else:\n",
    "    print(\"It's not boiling yet.\")\n"
   ]
  },
  {
   "cell_type": "code",
   "execution_count": null,
   "id": "b06d83ad-e7be-45f8-b6ea-34995e6d093f",
   "metadata": {},
   "outputs": [],
   "source": []
  }
 ],
 "metadata": {
  "kernelspec": {
   "display_name": "Python 3 (ipykernel)",
   "language": "python",
   "name": "python3"
  },
  "language_info": {
   "codemirror_mode": {
    "name": "ipython",
    "version": 3
   },
   "file_extension": ".py",
   "mimetype": "text/x-python",
   "name": "python",
   "nbconvert_exporter": "python",
   "pygments_lexer": "ipython3",
   "version": "3.13.1"
  }
 },
 "nbformat": 4,
 "nbformat_minor": 5
}
